{
 "cells": [
  {
   "cell_type": "code",
   "execution_count": 123,
   "metadata": {},
   "outputs": [
    {
     "name": "stdout",
     "output_type": "stream",
     "text": [
      "Running on the CPU\n"
     ]
    }
   ],
   "source": [
    "from sklearn.metrics import mean_squared_error, mean_absolute_percentage_error,mean_absolute_error\n",
    "from sklearn.model_selection import train_test_split\n",
    "from sklearn.preprocessing import MinMaxScaler\n",
    "from torchinfo import summary\n",
    "from torchvision.models import vgg19\n",
    "from torch.utils.data import DataLoader\n",
    "import matplotlib.pyplot as plt\n",
    "import tensorflow as tf\n",
    "import torch.nn as nn\n",
    "from math import sqrt\n",
    "import pandas as pd\n",
    "import numpy as np\n",
    "import random\n",
    "import torch\n",
    "import os\n",
    "# import imshow\n",
    "\n",
    "if torch.cuda.is_available():\n",
    "  device = torch.device('cuda:0')\n",
    "  print('Running on the GPU')\n",
    "else:\n",
    "  device = torch.device('cpu')\n",
    "  print('Running on the CPU')\n"
   ]
  },
  {
   "cell_type": "code",
   "execution_count": 119,
   "metadata": {},
   "outputs": [
    {
     "data": {
      "text/plain": [
       "((130, 224, 224, 3), (130, 19), dtype('int32'), dtype('int32'))"
      ]
     },
     "execution_count": 119,
     "metadata": {},
     "output_type": "execute_result"
    }
   ],
   "source": [
    "# Data = np.load(\"../data/Dataset.npy\",allow_pickle=True)\n",
    "X = np.load(\"../data/Images.npy\",allow_pickle=True)\n",
    "y= np.load(\"../data/Labels.npy\",allow_pickle=True)\n",
    "X.shape , y.shape , X.dtype , y.dtype"
   ]
  },
  {
   "cell_type": "code",
   "execution_count": 120,
   "metadata": {},
   "outputs": [
    {
     "data": {
      "text/plain": [
       "((104, 224, 224, 3), (26, 224, 224, 3), (104, 19), (26, 19))"
      ]
     },
     "execution_count": 120,
     "metadata": {},
     "output_type": "execute_result"
    }
   ],
   "source": [
    "X_train, X_test, y_train, y_test = train_test_split(X,y, test_size=0.2, random_state=42)\n",
    "X_train.shape, X_test.shape, y_train.shape, y_test.shape    "
   ]
  },
  {
   "cell_type": "code",
   "execution_count": 121,
   "metadata": {},
   "outputs": [],
   "source": [
    "X_train = torch.from_numpy(X_train).float()\n",
    "X_test = torch.from_numpy(X_test).float()\n",
    "y_train = torch.from_numpy(y_train)\n",
    "y_test = torch.from_numpy(y_test)"
   ]
  },
  {
   "cell_type": "code",
   "execution_count": 96,
   "metadata": {},
   "outputs": [
    {
     "name": "stderr",
     "output_type": "stream",
     "text": [
      "Downloading: \"https://download.pytorch.org/models/vgg19-dcbb9e9d.pth\" to C:\\Users\\HP/.cache\\torch\\hub\\checkpoints\\vgg19-dcbb9e9d.pth\n",
      "100%|██████████| 548M/548M [01:04<00:00, 8.95MB/s] \n"
     ]
    }
   ],
   "source": [
    "model = vgg19(weights='IMAGENET1K_V1')"
   ]
  },
  {
   "cell_type": "code",
   "execution_count": 122,
   "metadata": {},
   "outputs": [
    {
     "data": {
      "text/plain": [
       "==========================================================================================\n",
       "Layer (type:depth-idx)                   Output Shape              Param #\n",
       "==========================================================================================\n",
       "VGG                                      [1, 1000]                 --\n",
       "├─Sequential: 1-1                        [1, 512, 7, 7]            --\n",
       "│    └─Conv2d: 2-1                       [1, 64, 224, 224]         1,792\n",
       "│    └─ReLU: 2-2                         [1, 64, 224, 224]         --\n",
       "│    └─Conv2d: 2-3                       [1, 64, 224, 224]         36,928\n",
       "│    └─ReLU: 2-4                         [1, 64, 224, 224]         --\n",
       "│    └─MaxPool2d: 2-5                    [1, 64, 112, 112]         --\n",
       "│    └─Conv2d: 2-6                       [1, 128, 112, 112]        73,856\n",
       "│    └─ReLU: 2-7                         [1, 128, 112, 112]        --\n",
       "│    └─Conv2d: 2-8                       [1, 128, 112, 112]        147,584\n",
       "│    └─ReLU: 2-9                         [1, 128, 112, 112]        --\n",
       "│    └─MaxPool2d: 2-10                   [1, 128, 56, 56]          --\n",
       "│    └─Conv2d: 2-11                      [1, 256, 56, 56]          295,168\n",
       "│    └─ReLU: 2-12                        [1, 256, 56, 56]          --\n",
       "│    └─Conv2d: 2-13                      [1, 256, 56, 56]          590,080\n",
       "│    └─ReLU: 2-14                        [1, 256, 56, 56]          --\n",
       "│    └─Conv2d: 2-15                      [1, 256, 56, 56]          590,080\n",
       "│    └─ReLU: 2-16                        [1, 256, 56, 56]          --\n",
       "│    └─Conv2d: 2-17                      [1, 256, 56, 56]          590,080\n",
       "│    └─ReLU: 2-18                        [1, 256, 56, 56]          --\n",
       "│    └─MaxPool2d: 2-19                   [1, 256, 28, 28]          --\n",
       "│    └─Conv2d: 2-20                      [1, 512, 28, 28]          1,180,160\n",
       "│    └─ReLU: 2-21                        [1, 512, 28, 28]          --\n",
       "│    └─Conv2d: 2-22                      [1, 512, 28, 28]          2,359,808\n",
       "│    └─ReLU: 2-23                        [1, 512, 28, 28]          --\n",
       "│    └─Conv2d: 2-24                      [1, 512, 28, 28]          2,359,808\n",
       "│    └─ReLU: 2-25                        [1, 512, 28, 28]          --\n",
       "│    └─Conv2d: 2-26                      [1, 512, 28, 28]          2,359,808\n",
       "│    └─ReLU: 2-27                        [1, 512, 28, 28]          --\n",
       "│    └─MaxPool2d: 2-28                   [1, 512, 14, 14]          --\n",
       "│    └─Conv2d: 2-29                      [1, 512, 14, 14]          2,359,808\n",
       "│    └─ReLU: 2-30                        [1, 512, 14, 14]          --\n",
       "│    └─Conv2d: 2-31                      [1, 512, 14, 14]          2,359,808\n",
       "│    └─ReLU: 2-32                        [1, 512, 14, 14]          --\n",
       "│    └─Conv2d: 2-33                      [1, 512, 14, 14]          2,359,808\n",
       "│    └─ReLU: 2-34                        [1, 512, 14, 14]          --\n",
       "│    └─Conv2d: 2-35                      [1, 512, 14, 14]          2,359,808\n",
       "│    └─ReLU: 2-36                        [1, 512, 14, 14]          --\n",
       "│    └─MaxPool2d: 2-37                   [1, 512, 7, 7]            --\n",
       "├─AdaptiveAvgPool2d: 1-2                 [1, 512, 7, 7]            --\n",
       "├─Sequential: 1-3                        [1, 1000]                 --\n",
       "│    └─Linear: 2-38                      [1, 4096]                 102,764,544\n",
       "│    └─ReLU: 2-39                        [1, 4096]                 --\n",
       "│    └─Dropout: 2-40                     [1, 4096]                 --\n",
       "│    └─Linear: 2-41                      [1, 4096]                 16,781,312\n",
       "│    └─ReLU: 2-42                        [1, 4096]                 --\n",
       "│    └─Dropout: 2-43                     [1, 4096]                 --\n",
       "│    └─Linear: 2-44                      [1, 1000]                 4,097,000\n",
       "==========================================================================================\n",
       "Total params: 143,667,240\n",
       "Trainable params: 143,667,240\n",
       "Non-trainable params: 0\n",
       "Total mult-adds (Units.GIGABYTES): 19.65\n",
       "==========================================================================================\n",
       "Input size (MB): 0.60\n",
       "Forward/backward pass size (MB): 118.89\n",
       "Params size (MB): 574.67\n",
       "Estimated Total Size (MB): 694.16\n",
       "=========================================================================================="
      ]
     },
     "execution_count": 122,
     "metadata": {},
     "output_type": "execute_result"
    }
   ],
   "source": [
    "summary(model, input_size=(1, 3, 224, 224), verbose=0)"
   ]
  },
  {
   "cell_type": "code",
   "execution_count": 124,
   "metadata": {},
   "outputs": [
    {
     "name": "stderr",
     "output_type": "stream",
     "text": [
      "\n",
      "KeyboardInterrupt\n",
      "\n"
     ]
    }
   ],
   "source": [
    "# training the model for face recognition\n",
    "\n",
    "n_epochs = 10\n",
    "batch_size = 5\n",
    "lr = 0.3\n",
    "loss_fn = nn.CrossEntropyLoss()\n",
    "optimizer = torch.optim.Adam(model.parameters(), lr=lr)\n",
    "\n",
    "train = torch.utils.data.TensorDataset(X_train,y_train)\n",
    "test = torch.utils.data.TensorDataset(X_test,y_test)\n",
    "\n",
    "train_loader = torch.utils.data.DataLoader(train, batch_size=batch_size, shuffle=True)\n",
    "test_loader = torch.utils.data.DataLoader(test, batch_size=batch_size, shuffle=False)\n",
    "\n",
    "train_losses = []\n",
    "test_losses = []\n",
    "train_acc = []\n",
    "test_acc = []\n",
    "\n",
    "for epoch in range(n_epochs):\n",
    "    model.train()\n",
    "    correct = 0\n",
    "    for batch_idx, (data, target) in enumerate(train_loader):\n",
    "        data = data.to(device)\n",
    "        target = target.to(device)\n",
    "        optimizer.zero_grad()\n",
    "        output = model(data)\n",
    "        loss = loss_fn(output, target)\n",
    "        loss.backward()\n",
    "        optimizer.step()\n",
    "        pred = output.argmax(dim=1, keepdim=True)\n",
    "        correct += pred.eq(target.view_as(pred)).sum().item()\n",
    "        if batch_idx % 100 == 0:\n",
    "            print('Train Epoch: {} [{}/{} ({:.0f}%)]\\tLoss: {:.6f}\\t Accuracy: {}/{} ({:.0f}%)'.format(\n",
    "                epoch, batch_idx * len(data), len(train_loader.dataset),\n",
    "                100. * batch_idx / len(train_loader), loss.item(), correct, len(data),\n",
    "                100. * correct / len(data)))\n",
    "            \n",
    "\n",
    "    # train_losses.append(loss.item())\n",
    "    # train_acc.append(100. * correct / len(train_loader.dataset))\n",
    "    # model.eval()\n",
    "    # correct = 0\n",
    "    # with torch.no_grad():\n",
    "    #     for batch_idx, (data, target) in enumerate(test_loader):\n",
    "    #         data = data.to(device)\n",
    "    #         target = target.to(device)\n",
    "    #         output = model(data)\n",
    "    #         loss = loss_fn(output, target)\n",
    "    #         pred = output.argmax(dim=1, keepdim=True)\n",
    "    #         correct += pred.eq(target.view_as(pred)).sum().item()\n",
    "    # loss = loss.item()\n",
    "    # test_losses.append(loss)\n",
    "    # test_acc.append(100. * correct / len(test_loader.dataset))\n",
    "    # print('\\nTest set: Average loss: {:.4f}, Accuracy: {}/{} ({:.0f}%)\\n'.format(\n",
    "    #     loss, correct, len(test_loader.dataset),\n",
    "    #     100. * correct / len(test_loader.dataset)))\n",
    "\n"
   ]
  },
  {
   "cell_type": "code",
   "execution_count": null,
   "metadata": {},
   "outputs": [],
   "source": []
  }
 ],
 "metadata": {
  "kernelspec": {
   "display_name": "Python 3",
   "language": "python",
   "name": "python3"
  },
  "language_info": {
   "codemirror_mode": {
    "name": "ipython",
    "version": 3
   },
   "file_extension": ".py",
   "mimetype": "text/x-python",
   "name": "python",
   "nbconvert_exporter": "python",
   "pygments_lexer": "ipython3",
   "version": "3.11.1"
  },
  "orig_nbformat": 4
 },
 "nbformat": 4,
 "nbformat_minor": 2
}
