{
 "cells": [
  {
   "cell_type": "code",
   "execution_count": 107,
   "metadata": {},
   "outputs": [
    {
     "name": "stdout",
     "output_type": "stream",
     "text": [
      "Running on the GPU\n"
     ]
    }
   ],
   "source": [
    "from sklearn.metrics import accuracy_score, confusion_matrix, classification_report\n",
    "from sklearn.model_selection import train_test_split\n",
    "from sklearn.preprocessing import MinMaxScaler\n",
    "from torchinfo import summary\n",
    "from torchvision.models import vgg19\n",
    "\n",
    "from torch.utils.data import DataLoader\n",
    "import matplotlib.pyplot as plt\n",
    "# import tensorflow as tf\n",
    "import torch.nn as nn\n",
    "from math import sqrt\n",
    "import pandas as pd\n",
    "import numpy as np\n",
    "import random\n",
    "import torch\n",
    "import os\n",
    "# import imshow\n",
    "\n",
    "if torch.cuda.is_available():\n",
    "  device = torch.device('cuda:0')\n",
    "  print('Running on the GPU')\n",
    "else:\n",
    "  device = torch.device('cpu')\n",
    "  print('Running on the CPU')\n"
   ]
  },
  {
   "cell_type": "code",
   "execution_count": 91,
   "metadata": {},
   "outputs": [
    {
     "data": {
      "text/plain": [
       "((130, 3, 224, 224), (130, 19), dtype('int64'), dtype('int64'))"
      ]
     },
     "execution_count": 91,
     "metadata": {},
     "output_type": "execute_result"
    }
   ],
   "source": [
    "# Data = np.load(\"../data/Dataset.npy\",allow_pickle=True)\n",
    "X = np.load(\"../data/Images.npy\",allow_pickle=True)\n",
    "y= np.load(\"../data/Labels.npy\",allow_pickle=True)\n",
    "X.shape , y.shape , X.dtype , y.dtype"
   ]
  },
  {
   "cell_type": "code",
   "execution_count": 95,
   "metadata": {},
   "outputs": [
    {
     "data": {
      "text/plain": [
       "((104, 3, 224, 224), (26, 3, 224, 224), (104, 19), (26, 19))"
      ]
     },
     "execution_count": 95,
     "metadata": {},
     "output_type": "execute_result"
    }
   ],
   "source": [
    "X_train, X_test, y_train, y_test = train_test_split(X,y, test_size=0.2, random_state=42)\n",
    "X_train.shape, X_test.shape, y_train.shape, y_test.shape    "
   ]
  },
  {
   "cell_type": "code",
   "execution_count": 96,
   "metadata": {},
   "outputs": [],
   "source": [
    "X_train = torch.from_numpy(X_train).float()\n",
    "X_test = torch.from_numpy(X_test).float()\n",
    "y_train = torch.from_numpy(y_train).float()\n",
    "y_test = torch.from_numpy(y_test).float()"
   ]
  },
  {
   "cell_type": "code",
   "execution_count": 28,
   "metadata": {},
   "outputs": [],
   "source": [
    "model = vgg19(weights='IMAGENET1K_V1')"
   ]
  },
  {
   "cell_type": "code",
   "execution_count": 82,
   "metadata": {},
   "outputs": [],
   "source": [
    "# VGG model for feature extraction\n",
    "model = vgg19(weights='IMAGENET1K_V1')"
   ]
  },
  {
   "cell_type": "code",
   "execution_count": 137,
   "metadata": {},
   "outputs": [
    {
     "data": {
      "text/plain": [
       "==========================================================================================\n",
       "Layer (type:depth-idx)                   Output Shape              Param #\n",
       "==========================================================================================\n",
       "VGG_model                                [1, 19]                   --\n",
       "├─Linear: 1-1                            [1, 128]                  3,211,392\n",
       "├─Linear: 1-2                            [1, 512]                  66,048\n",
       "├─Linear: 1-3                            [1, 19]                   9,747\n",
       "==========================================================================================\n",
       "Total params: 3,287,187\n",
       "Trainable params: 3,287,187\n",
       "Non-trainable params: 0\n",
       "Total mult-adds (M): 3.29\n",
       "==========================================================================================\n",
       "Input size (MB): 0.10\n",
       "Forward/backward pass size (MB): 0.01\n",
       "Params size (MB): 13.15\n",
       "Estimated Total Size (MB): 13.25\n",
       "=========================================================================================="
      ]
     },
     "execution_count": 137,
     "metadata": {},
     "output_type": "execute_result"
    }
   ],
   "source": [
    "class VGG_model(nn.Module):\n",
    "    def __init__(self,input_dim ,output_dim=1,FC=[1024,512]):\n",
    "        super().__init__()\n",
    "        self.Linear1 = nn.Linear(in_features=input_dim,out_features = FC[0])\n",
    "        self.Linear2 = nn.Linear(in_features = FC[0], out_features = FC[1])\n",
    "        self.Linear3 = nn.Linear(in_features = FC[1], out_features = output_dim)\n",
    "    \n",
    "    def forward(self, X):\n",
    "        X = self.Linear1(X)\n",
    "        X = nn.functional.relu(X)\n",
    "        X = self.Linear2(X)\n",
    "        X = nn.functional.relu(X)\n",
    "        X = self.Linear3(X)\n",
    "        X = nn.functional.softmax(X, dim=1)\n",
    "        return X\n",
    "        \n",
    "\n",
    "VGG_clf = VGG_model(input_dim =25088,output_dim=19, FC=[128,512])\n",
    "summary(VGG_clf, input_size=(1,25088))\n"
   ]
  },
  {
   "cell_type": "code",
   "execution_count": 139,
   "metadata": {},
   "outputs": [
    {
     "name": "stdout",
     "output_type": "stream",
     "text": [
      "Epoch : 0 , Train loss : 2.7810165882110596\n",
      "Epoch : 1 , Train loss : 2.7810165882110596\n",
      "Epoch : 2 , Train loss : 3.0310165882110596\n",
      "Epoch : 3 , Train loss : 3.0310165882110596\n",
      "Epoch : 4 , Train loss : 2.7810165882110596\n",
      "Epoch : 5 , Train loss : 2.7810165882110596\n",
      "Epoch : 6 , Train loss : 3.0310165882110596\n",
      "Epoch : 7 , Train loss : 3.0310165882110596\n",
      "Epoch : 8 , Train loss : 2.7810165882110596\n",
      "Epoch : 9 , Train loss : 2.7810165882110596\n"
     ]
    }
   ],
   "source": [
    "# training the model for face recognition\n",
    "\n",
    "n_epochs = 10\n",
    "batch_size = 5\n",
    "lr = 0.3\n",
    "\n",
    "VGG_featurizer = vgg19(weights='IMAGENET1K_V1')\n",
    "VGG_featurizer.trainable = False\n",
    "VGG_clf = VGG_model(input_dim =25088,output_dim=19, FC=[1024,512])\n",
    "VGG_featurizer.to(device)\n",
    "VGG_clf.to(device)\n",
    "\n",
    "loss_fn = nn.CrossEntropyLoss()\n",
    "optimizer = torch.optim.Adam(VGG_clf.parameters(), lr=lr)\n",
    "\n",
    "train = torch.utils.data.TensorDataset(X_train,y_train)\n",
    "test = torch.utils.data.TensorDataset(X_test,y_test)\n",
    "\n",
    "train_loader = torch.utils.data.DataLoader(train, batch_size=batch_size, shuffle=True)\n",
    "test_loader = torch.utils.data.DataLoader(test, batch_size=batch_size, shuffle=False)\n",
    "\n",
    "train_losses = []\n",
    "test_losses = []\n",
    "train_acc = []\n",
    "test_acc = []\n",
    "\n",
    "for epoch in range(n_epochs):\n",
    "    model.train()\n",
    "    correct = 0\n",
    "    for batch_idx, (data, target) in enumerate(train_loader):\n",
    "        data = data.to(device)\n",
    "        target = target.to(device)\n",
    "        optimizer.zero_grad()\n",
    "        features = VGG_featurizer.features(data)\n",
    "        features = features.view(features.size(0), -1)\n",
    "        # print(features.shape)\n",
    "        output = VGG_clf(features)\n",
    "\n",
    "        loss = loss_fn(output, target)\n",
    "        loss.backward()\n",
    "        optimizer.step()\n",
    "        # pred = output.argmax(dim=1, keepdim=True)\n",
    "\n",
    "    print(\"Epoch : {} , Train loss : {}\".format(epoch,loss.item()))\n",
    "\n"
   ]
  },
  {
   "cell_type": "code",
   "execution_count": 140,
   "metadata": {},
   "outputs": [
    {
     "data": {
      "text/plain": [
       "tensor([1, 1, 1, 1, 1, 1, 1, 1, 1, 1, 1, 1, 1, 1, 1, 1, 1, 1, 1, 1, 1, 1, 1, 1,\n",
       "        1, 1], device='cuda:0')"
      ]
     },
     "execution_count": 140,
     "metadata": {},
     "output_type": "execute_result"
    }
   ],
   "source": [
    "y_f = VGG_featurizer.features(X_test.to(device))\n",
    "y_f = y_f.view(y_f.size(0), -1)\n",
    "y_hat = VGG_clf(y_f)\n",
    "out = torch.argmax(y_hat, dim=1)\n",
    "out\n"
   ]
  },
  {
   "cell_type": "code",
   "execution_count": null,
   "metadata": {},
   "outputs": [],
   "source": []
  }
 ],
 "metadata": {
  "kernelspec": {
   "display_name": "Ayush",
   "language": "python",
   "name": "ayush"
  },
  "language_info": {
   "codemirror_mode": {
    "name": "ipython",
    "version": 3
   },
   "file_extension": ".py",
   "mimetype": "text/x-python",
   "name": "python",
   "nbconvert_exporter": "python",
   "pygments_lexer": "ipython3",
   "version": "3.9.16"
  },
  "orig_nbformat": 4
 },
 "nbformat": 4,
 "nbformat_minor": 2
}
